{
 "cells": [
  {
   "cell_type": "markdown",
   "metadata": {},
   "source": [
    "# Prepare the dataset for analysis.\n",
    "\n",
    "Now that we have a merged dataset which inlcudes all of the weather data it's time to clean. Many variables have missing values and inconsistent data types. The goal of this file is to prepare the data for analysis."
   ]
  },
  {
   "cell_type": "code",
   "execution_count": 16,
   "metadata": {},
   "outputs": [],
   "source": [
    "import pandas as pd\n",
    "import matplotlib.pyplot as plt\n",
    "import seaborn as sns"
   ]
  },
  {
   "cell_type": "code",
   "execution_count": 12,
   "metadata": {},
   "outputs": [],
   "source": [
    "path = r'C:\\Users\\Gregory.Renner\\Documents\\Personal\\Programs\\Data-Analysis\\Weather Prediction\\master_weather_data.csv'\n",
    "weather = pd.read_csv(path)"
   ]
  },
  {
   "cell_type": "markdown",
   "metadata": {},
   "source": [
    "This file began as 1.2 gigs with 1.6 million observations across 99 variables. We need to decrease the size so that it is more efficient to work with. Let's begin by determining which columns of of which data type."
   ]
  },
  {
   "cell_type": "code",
   "execution_count": 13,
   "metadata": {},
   "outputs": [
    {
     "name": "stdout",
     "output_type": "stream",
     "text": [
      "floats 98\n",
      "ints 0\n",
      "objs 1\n",
      "dates 0\n"
     ]
    }
   ],
   "source": [
    "floats = list(weather.select_dtypes(include=['float64']).columns)\n",
    "ints = list(weather.select_dtypes(include=['int']).columns)\n",
    "objs = list(weather.select_dtypes(include=['object']).columns)\n",
    "dates = list(weather.select_dtypes(include=['datetime']).columns)\n",
    "\n",
    "print('floats' , len(floats))\n",
    "print('ints' , len(ints))\n",
    "print('objs' , len(objs))\n",
    "print('dates' , len(dates))"
   ]
  },
  {
   "cell_type": "markdown",
   "metadata": {},
   "source": [
    "Of the 99 variables in the dataset 98 are floats and 1 is an object. The object variable is Date_Time. "
   ]
  },
  {
   "cell_type": "code",
   "execution_count": 14,
   "metadata": {},
   "outputs": [],
   "source": [
    "# Convert Date_Time to a date variable.\n",
    "weather['Date_Time'] = pd.to_datetime(weather['Date_Time'])"
   ]
  },
  {
   "cell_type": "code",
   "execution_count": 19,
   "metadata": {},
   "outputs": [
    {
     "data": {
      "text/plain": [
       "<matplotlib.axes._subplots.AxesSubplot at 0x1f69920f358>"
      ]
     },
     "execution_count": 19,
     "metadata": {},
     "output_type": "execute_result"
    },
    {
     "data": {
      "image/png": "[encoded data removed]",
      "text/plain": [
       "<matplotlib.figure.Figure at 0x1f699213320>"
      ]
     },
     "metadata": {},
     "output_type": "display_data"
    }
   ],
   "source": [
    "# Check what portions of the dataframe contain missing data.\n",
    "fig, ax = plt.subplots(figsize=(15,6))\n",
    "sns.heatmap(weather.isnull(), yticklabels=False, xticklabels=False, cbar=False, cmap='viridis')"
   ]
  },
  {
   "cell_type": "code",
   "execution_count": null,
   "metadata": {},
   "outputs": [],
   "source": []
  }
 ],
 "metadata": {
  "kernelspec": {
   "display_name": "Python 3",
   "language": "python",
   "name": "python3"
  },
  "language_info": {
   "codemirror_mode": {
    "name": "ipython",
    "version": 3
   },
   "file_extension": ".py",
   "mimetype": "text/x-python",
   "name": "python",
   "nbconvert_exporter": "python",
   "pygments_lexer": "ipython3",
   "version": "3.6.4"
  }
 },
 "nbformat": 4,
 "nbformat_minor": 2
}
